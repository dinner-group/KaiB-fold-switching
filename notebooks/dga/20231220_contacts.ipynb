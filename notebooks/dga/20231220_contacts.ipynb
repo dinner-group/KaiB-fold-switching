{
 "cells": [
  {
   "cell_type": "code",
   "execution_count": 1,
   "id": "0fc37435-109e-4624-881a-5bcfd179ec6c",
   "metadata": {
    "tags": []
   },
   "outputs": [],
   "source": [
    "import glob\n",
    "import os\n",
    "import pickle\n",
    "import random\n",
    "import sys\n",
    "\n",
    "import matplotlib as mpl\n",
    "import matplotlib.pyplot as plt\n",
    "import mdtraj as md\n",
    "import numpy as np\n",
    "import pyemma\n",
    "import scipy\n",
    "import seaborn as sns\n",
    "from matplotlib import ticker\n",
    "from sklearn.cluster import MiniBatchKMeans\n",
    "from sklearn.neighbors import NearestNeighbors\n",
    "\n",
    "import extq\n",
    "import prettypyplot as pplt"
   ]
  },
  {
   "cell_type": "code",
   "execution_count": 2,
   "id": "1063e71e-5a39-4d68-9e2f-87f379d00dd0",
   "metadata": {
    "tags": []
   },
   "outputs": [],
   "source": [
    "! source /project/dinner/scguo/upside2/sourceme.sh"
   ]
  },
  {
   "cell_type": "code",
   "execution_count": 3,
   "id": "5e52d224-7e7e-4464-b5f1-3224dd5a74b9",
   "metadata": {
    "tags": []
   },
   "outputs": [],
   "source": [
    "upside_path = \"/project/dinner/scguo/upside2/\"\n",
    "upside_utils_dir = os.path.expanduser(upside_path + \"/py\")\n",
    "sys.path.insert(0, upside_utils_dir)\n",
    "import mdtraj_upside as mu"
   ]
  },
  {
   "cell_type": "code",
   "execution_count": 4,
   "id": "1d245c64-dc07-4f61-9fdb-2d536686dd46",
   "metadata": {},
   "outputs": [],
   "source": [
    "plt.style.use(\"custom\")  # custom style sheet\n",
    "plt.style.use(\"vibrant\")  # muted color theme from SciencePlots\n",
    "pplt.load_cmaps()"
   ]
  },
  {
   "cell_type": "code",
   "execution_count": 5,
   "id": "10feadcf-ec20-4e53-a78e-f2672ecd466f",
   "metadata": {
    "tags": []
   },
   "outputs": [],
   "source": [
    "plt.rcParams[\n",
    "    \"text.latex.preamble\"\n",
    "] = r\"\\usepackage{siunitx}\\sisetup{detect-all}\\usepackage{helvet}\\usepackage{sansmath}\\sansmath\"\n",
    "mpl.rcParams[\"font.family\"] = \"sans-serif\"\n",
    "mpl.rcParams[\"font.sans-serif\"] = \"cm\""
   ]
  },
  {
   "cell_type": "code",
   "execution_count": 6,
   "id": "46aed6fe-e67a-4b0a-bd6c-c000efaa3648",
   "metadata": {},
   "outputs": [],
   "source": [
    "from itertools import product\n",
    "\n",
    "\n",
    "def best_hummer_q(traj, native, selection, BETA_CONST, LAMBDA_CONST):\n",
    "    \"\"\"Compute the fraction of native contacts according the definition from\n",
    "    Best, Hummer and Eaton [1]\n",
    "\n",
    "    Parameters\n",
    "    ----------\n",
    "    traj : md.Trajectory\n",
    "        The trajectory to do the computation for\n",
    "    native : md.Trajectory\n",
    "        The 'native state'. This can be an entire trajecory, or just a single frame.\n",
    "        Only the first conformation is used\n",
    "\n",
    "    Returns\n",
    "    -------\n",
    "    q : np.array, shape=(len(traj),)\n",
    "        The fraction of native contacts in each frame of `traj`\n",
    "\n",
    "    References\n",
    "    ----------\n",
    "    ..[1] Best, Hummer, and Eaton, \"Native contacts determine protein folding\n",
    "          mechanisms in atomistic simulations\" PNAS (2013)\n",
    "    \"\"\"\n",
    "\n",
    "    NATIVE_CUTOFF = 0.45  # nanometers\n",
    "\n",
    "    # get the indices of all of the atoms\n",
    "    heavy = native.topology.select(\"resid 0 to 107\")\n",
    "    # get the pairs of heavy atoms which are farther than 3\n",
    "    # residues apart\n",
    "    heavy_pairs = np.array(\n",
    "        [\n",
    "            (i, j)\n",
    "            for (i, j) in product(selection, heavy)\n",
    "            if abs(native.topology.atom(i).residue.index - native.topology.atom(j).residue.index) > 3\n",
    "        ]\n",
    "    )\n",
    "\n",
    "    # compute the distances between these pairs in the native state\n",
    "    heavy_pairs_distances = md.compute_distances(native[0], heavy_pairs)[0]\n",
    "    # and get the pairs s.t. the distance is less than NATIVE_CUTOFF\n",
    "    native_contacts = heavy_pairs[heavy_pairs_distances < NATIVE_CUTOFF]\n",
    "    # print(\"Number of native contacts\", len(native_contacts))\n",
    "\n",
    "    # now compute these distances for the whole trajectory\n",
    "    r = md.compute_distances(traj, native_contacts)\n",
    "    # and recompute them for just the native state\n",
    "    r0 = md.compute_distances(native[0], native_contacts)\n",
    "\n",
    "    q = np.mean(1.0 / (1 + np.exp(BETA_CONST * (r - LAMBDA_CONST * r0))), axis=1)\n",
    "    return q"
   ]
  },
  {
   "cell_type": "code",
   "execution_count": 7,
   "id": "4fa3aeaf-c1c7-41ad-ae28-c2b9337c73fb",
   "metadata": {},
   "outputs": [],
   "source": [
    "BETA, LAMBDA = 50, 1.8"
   ]
  },
  {
   "cell_type": "markdown",
   "id": "970ad512-de0d-48c6-9020-300905e9acf6",
   "metadata": {},
   "source": [
    "# try to identify which contacts to use for MSM building"
   ]
  },
  {
   "cell_type": "markdown",
   "id": "f9d8ccdd-5099-44b3-9e1f-11b3391de237",
   "metadata": {},
   "source": [
    "## gs"
   ]
  },
  {
   "cell_type": "code",
   "execution_count": 8,
   "id": "3513bf62-99f3-43e4-a350-abce246d3f16",
   "metadata": {},
   "outputs": [
    {
     "name": "stderr",
     "output_type": "stream",
     "text": [
      "/beagle3/dinner/scguo/envs/md/lib/python3.11/site-packages/mdtraj/core/trajectory.py:439: UserWarning: top= kwargs ignored since this file parser does not support it\n",
      "  warnings.warn('top= kwargs ignored since this file parser does not support it')\n",
      "/scratch/local/jobs/11538035/ipykernel_4052603/78352537.py:52: RuntimeWarning: overflow encountered in exp\n",
      "  q = np.mean(1.0 / (1 + np.exp(BETA_CONST * (r - LAMBDA_CONST * r0))), axis=1)\n"
     ]
    },
    {
     "data": {
      "text/plain": [
       "[<matplotlib.lines.Line2D at 0x7fb88041ab50>]"
      ]
     },
     "execution_count": 8,
     "metadata": {},
     "output_type": "execute_result"
    },
    {
     "data": {
      "image/png": "[encoded data removed]",
      "text/plain": [
       "<Figure size 450x450 with 1 Axes>"
      ]
     },
     "metadata": {},
     "output_type": "display_data"
    }
   ],
   "source": [
    "gs_file = \"/project2/dinner/darrenjl/kaiB/03022023_restart_trans_gs/run_0/2qke_mutated.run.00.h5\"\n",
    "gs_traj = md.load(gs_file)\n",
    "\n",
    "selection = gs_traj.top.select(\"protein\")\n",
    "qfrac = best_hummer_q(gs_traj, gs_traj, selection, BETA, LAMBDA)\n",
    "\n",
    "plt.plot(qfrac)"
   ]
  },
  {
   "cell_type": "code",
   "execution_count": 39,
   "id": "31de2d2f-afbd-4186-b74d-0fa13a7b8b11",
   "metadata": {},
   "outputs": [],
   "source": [
    "# gs_file = \"/project2/dinner/darrenjl/kaiB/03022023_restart_trans_gs/run_0/2qke_mutated.run.02.up\"\n",
    "# gs_traj = mu.load_upside_traj(gs_file)\n",
    "\n",
    "# selection = gs_traj.top.select(\"protein\")\n",
    "# qfrac = best_hummer_q(gs_traj, gs_traj, selection, BETA, LAMBDA)\n",
    "\n",
    "# plt.plot(qfrac)"
   ]
  },
  {
   "cell_type": "code",
   "execution_count": 9,
   "id": "e6b5dc5f-9430-4bd3-8c34-bfb73859766b",
   "metadata": {},
   "outputs": [],
   "source": [
    "heavy_pairs = np.array(\n",
    "    [\n",
    "        (i, j)\n",
    "        for (i, j) in product(selection, selection)\n",
    "        if abs(gs_traj.topology.atom(i).residue.index - gs_traj.topology.atom(j).residue.index) > 3\n",
    "    ]\n",
    ")\n",
    "# compute the distances between these pairs in the native state\n",
    "heavy_pairs_distances = md.compute_distances(gs_traj[0], heavy_pairs)[0]\n",
    "# and get the pairs s.t. the distance is less than NATIVE_CUTOFF\n",
    "native_contacts = heavy_pairs[heavy_pairs_distances < 0.45]"
   ]
  },
  {
   "cell_type": "code",
   "execution_count": 10,
   "id": "256bef9a-628e-4d10-8b98-b7f5546a5e98",
   "metadata": {},
   "outputs": [
    {
     "data": {
      "text/plain": [
       "1284"
      ]
     },
     "execution_count": 10,
     "metadata": {},
     "output_type": "execute_result"
    }
   ],
   "source": [
    "len(native_contacts)"
   ]
  },
  {
   "cell_type": "code",
   "execution_count": 11,
   "id": "d70523ed-b2aa-42e2-ab1e-4a3b996dcd50",
   "metadata": {},
   "outputs": [
    {
     "name": "stderr",
     "output_type": "stream",
     "text": [
      "/scratch/local/jobs/11538035/ipykernel_4052603/69753708.py:3: RuntimeWarning: overflow encountered in exp\n",
      "  q = 1.0 / (1 + np.exp(BETA * (r - LAMBDA * r0)))\n"
     ]
    }
   ],
   "source": [
    "r = md.compute_distances(gs_traj, native_contacts)\n",
    "r0 = md.compute_distances(gs_traj[0], native_contacts)\n",
    "q = 1.0 / (1 + np.exp(BETA * (r - LAMBDA * r0)))"
   ]
  },
  {
   "cell_type": "code",
   "execution_count": 12,
   "id": "4202390a-727e-4a40-9a6c-229b4c60192c",
   "metadata": {},
   "outputs": [
    {
     "data": {
      "text/plain": [
       "array([0.5879159 , 0.4882834 , 0.5749499 , ..., 0.81279206, 0.61108524,\n",
       "       0.5950763 ], dtype=float32)"
      ]
     },
     "execution_count": 12,
     "metadata": {},
     "output_type": "execute_result"
    }
   ],
   "source": [
    "np.mean(q, axis=0)"
   ]
  },
  {
   "cell_type": "code",
   "execution_count": 13,
   "id": "6c48de9b-4685-4986-9bb8-28c77381082d",
   "metadata": {},
   "outputs": [],
   "source": [
    "# and get the pairs s.t. the distance is less than NATIVE_CUTOFF\n",
    "contact_indices = np.mean(q, axis=0) > 0.5\n",
    "native_contacts_cutoff = native_contacts[contact_indices]"
   ]
  },
  {
   "cell_type": "code",
   "execution_count": 14,
   "id": "18c5f49e-16c6-418f-bfc7-0c345e954f83",
   "metadata": {},
   "outputs": [
    {
     "data": {
      "text/plain": [
       "1080"
      ]
     },
     "execution_count": 14,
     "metadata": {},
     "output_type": "execute_result"
    }
   ],
   "source": [
    "len(native_contacts_cutoff)"
   ]
  },
  {
   "cell_type": "markdown",
   "id": "f9c0ad88-d67d-4fa1-99bd-64177068dc4d",
   "metadata": {},
   "source": [
    "## fs"
   ]
  },
  {
   "cell_type": "code",
   "execution_count": 44,
   "id": "dacee314-f8b5-447c-8dd8-eed0ef19c03e",
   "metadata": {},
   "outputs": [
    {
     "name": "stderr",
     "output_type": "stream",
     "text": [
      "/scratch/local/jobs/11538035/ipykernel_4052603/78352537.py:52: RuntimeWarning: overflow encountered in exp\n",
      "  q = np.mean(1.0 / (1 + np.exp(BETA_CONST * (r - LAMBDA_CONST * r0))), axis=1)\n"
     ]
    },
    {
     "data": {
      "text/plain": [
       "[<matplotlib.lines.Line2D at 0x7fb859cb6410>]"
      ]
     },
     "execution_count": 44,
     "metadata": {},
     "output_type": "execute_result"
    },
    {
     "data": {
      "image/png": "[encoded data removed]",
      "text/plain": [
       "<Figure size 450x450 with 1 Axes>"
      ]
     },
     "metadata": {},
     "output_type": "display_data"
    }
   ],
   "source": [
    "fs_file = \"/project2/dinner/darrenjl/kaiB/02272023_cis_fs/run_0/fs_mutated.run.13.h5\"\n",
    "fs_traj = md.load(fs_file)\n",
    "\n",
    "selection = fs_traj.top.select(\"protein\")\n",
    "qfrac = best_hummer_q(fs_traj, fs_traj, selection, BETA, LAMBDA)\n",
    "\n",
    "plt.plot(qfrac)"
   ]
  },
  {
   "cell_type": "code",
   "execution_count": 22,
   "id": "eb3f970f-68c9-4fc3-a5f1-32b1c3d888c3",
   "metadata": {},
   "outputs": [],
   "source": [
    "heavy_pairs = np.array(\n",
    "    [\n",
    "        (i, j)\n",
    "        for (i, j) in product(selection, selection)\n",
    "        if abs(fs_traj.topology.atom(i).residue.index - fs_traj.topology.atom(j).residue.index) > 3\n",
    "    ]\n",
    ")\n",
    "# compute the distances between these pairs in the native state\n",
    "heavy_pairs_distances = md.compute_distances(fs_traj[0], heavy_pairs)[0]\n",
    "# and get the pairs s.t. the distance is less than NATIVE_CUTOFF\n",
    "native_contacts = heavy_pairs[heavy_pairs_distances < 0.45]"
   ]
  },
  {
   "cell_type": "code",
   "execution_count": 23,
   "id": "e90fe528-7c84-49f3-b1e4-237a4fa730c4",
   "metadata": {},
   "outputs": [
    {
     "data": {
      "text/plain": [
       "1440"
      ]
     },
     "execution_count": 23,
     "metadata": {},
     "output_type": "execute_result"
    }
   ],
   "source": [
    "len(native_contacts)"
   ]
  },
  {
   "cell_type": "code",
   "execution_count": 24,
   "id": "875c3ea1-0ba9-4a5e-ba2d-fb1d2964119e",
   "metadata": {},
   "outputs": [
    {
     "name": "stderr",
     "output_type": "stream",
     "text": [
      "/scratch/local/jobs/11538035/ipykernel_4052603/2368700111.py:3: RuntimeWarning: overflow encountered in exp\n",
      "  q = 1.0 / (1 + np.exp(BETA * (r - LAMBDA * r0)))\n"
     ]
    }
   ],
   "source": [
    "r = md.compute_distances(fs_traj, native_contacts)\n",
    "r0 = md.compute_distances(fs_traj[0], native_contacts)\n",
    "q = 1.0 / (1 + np.exp(BETA * (r - LAMBDA * r0)))"
   ]
  },
  {
   "cell_type": "code",
   "execution_count": 25,
   "id": "785cd848-bb05-47f8-8573-aba5b7023876",
   "metadata": {},
   "outputs": [],
   "source": [
    "# and get the pairs s.t. the distance is less than NATIVE_CUTOFF\n",
    "contact_indices = np.mean(q, axis=0) > 0.5\n",
    "native_contacts_cutoff = native_contacts[contact_indices]"
   ]
  },
  {
   "cell_type": "code",
   "execution_count": 26,
   "id": "73a7979a-6fb7-4b01-b39d-a66b32eb9aed",
   "metadata": {},
   "outputs": [
    {
     "data": {
      "text/plain": [
       "1176"
      ]
     },
     "execution_count": 26,
     "metadata": {},
     "output_type": "execute_result"
    }
   ],
   "source": [
    "len(native_contacts_cutoff)"
   ]
  },
  {
   "cell_type": "markdown",
   "id": "73fb5413-7f24-475e-b43d-06eb7d33d59d",
   "metadata": {},
   "source": [
    "# PyEMMA featurizer"
   ]
  },
  {
   "cell_type": "markdown",
   "id": "cc962bef-1c56-46f0-9c20-c9bfd9d1d7aa",
   "metadata": {},
   "source": [
    "## number of contacts from list occupied"
   ]
  },
  {
   "cell_type": "code",
   "execution_count": 27,
   "id": "3bc229b5-05bb-4760-8b4f-3e299fd83461",
   "metadata": {},
   "outputs": [
    {
     "name": "stdout",
     "output_type": "stream",
     "text": [
      "332\n"
     ]
    }
   ],
   "source": [
    "featurizer = pyemma.coordinates.featurizer(gs_traj.top)\n",
    "\n",
    "resids = np.array([3, 9, 11, 13, 16, 23, 33, 38, 41, 43, 45, 47, 51, 56, 59, 63, 65, 67, 70, 72, 75, 78, 81, 84, 87, 90, 93]) - 1\n",
    "residue_pairs = [(i, j) for (i, j) in product(resids, resids) if abs(i - j) > 3 and i > j]\n",
    "featurizer.add_residue_mindist(residue_pairs=residue_pairs, threshold=0.45)\n",
    "\n",
    "print(np.count_nonzero(featurizer.describe()))"
   ]
  },
  {
   "cell_type": "code",
   "execution_count": 28,
   "id": "682c074d-10dd-4c2a-91ab-a93dae8ead76",
   "metadata": {},
   "outputs": [],
   "source": [
    "traj_files = [\n",
    "    \"/project2/dinner/darrenjl/kaiB/03022023_restart_trans_gs/run_0/2qke_mutated.run.00.h5\",\n",
    "    \"/project2/dinner/darrenjl/kaiB/02272023_cis_fs/run_0/fs_mutated.run.00.h5\"\n",
    "]\n",
    "features_gs = pyemma.coordinates.load(traj_files, features=featurizer)"
   ]
  },
  {
   "cell_type": "code",
   "execution_count": 29,
   "id": "bea1da30-039f-490f-8f20-7b4f765543dd",
   "metadata": {},
   "outputs": [
    {
     "data": {
      "image/png": "[encoded data removed]",
      "text/plain": [
       "<Figure size 450x450 with 1 Axes>"
      ]
     },
     "metadata": {},
     "output_type": "display_data"
    }
   ],
   "source": [
    "for traj in features_gs:\n",
    "    plt.plot(np.count_nonzero(traj[::10], axis=1), alpha=0.5)"
   ]
  },
  {
   "cell_type": "code",
   "execution_count": 30,
   "id": "534448c6-1ee5-4cb0-a008-f197bca5c2d6",
   "metadata": {},
   "outputs": [
    {
     "data": {
      "image/png": "[encoded data removed]",
      "text/plain": [
       "<Figure size 450x450 with 1 Axes>"
      ]
     },
     "metadata": {},
     "output_type": "display_data"
    }
   ],
   "source": [
    "for traj in features_gs:\n",
    "    feature_occupancy = np.mean(traj, axis=0)\n",
    "    plt.plot(feature_occupancy, '.', alpha=0.75)"
   ]
  },
  {
   "cell_type": "code",
   "execution_count": 31,
   "id": "721adc88-8921-4174-9d8a-7bd05ebb6f0d",
   "metadata": {},
   "outputs": [
    {
     "name": "stdout",
     "output_type": "stream",
     "text": [
      "13\n",
      "RES_DIST (closest-heavy) ALA40 - VAL8\n",
      "RES_DIST (closest-heavy) LYS42 - VAL8\n",
      "RES_DIST (closest-heavy) LYS42 - LYS10\n",
      "RES_DIST (closest-heavy) ILE44 - LYS10\n",
      "RES_DIST (closest-heavy) ILE44 - TYR12\n",
      "RES_DIST (closest-heavy) VAL46 - TYR12\n",
      "RES_DIST (closest-heavy) LYS66 - PRO62\n",
      "RES_DIST (closest-heavy) LEU86 - TYR12\n",
      "RES_DIST (closest-heavy) LEU86 - SER80\n",
      "RES_DIST (closest-heavy) LEU89 - LYS10\n",
      "RES_DIST (closest-heavy) LEU89 - ILE58\n",
      "RES_DIST (closest-heavy) LEU92 - VAL8\n",
      "RES_DIST (closest-heavy) LEU92 - LYS10\n",
      "10\n",
      "RES_DIST (closest-heavy) ALA40 - VAL8\n",
      "RES_DIST (closest-heavy) LYS42 - LYS10\n",
      "RES_DIST (closest-heavy) ILE44 - TYR12\n",
      "RES_DIST (closest-heavy) PRO62 - TYR12\n",
      "RES_DIST (closest-heavy) LEU64 - LYS10\n",
      "RES_DIST (closest-heavy) LYS66 - VAL8\n",
      "RES_DIST (closest-heavy) PRO71 - LYS66\n",
      "RES_DIST (closest-heavy) ARG74 - LEU64\n",
      "RES_DIST (closest-heavy) GLY77 - PRO62\n",
      "RES_DIST (closest-heavy) LEU92 - LYS66\n"
     ]
    }
   ],
   "source": [
    "OCCUPANCY_CUTOFF = 0.3\n",
    "for traj in features_gs:\n",
    "    feature_occupancy = np.mean(traj, axis=0)\n",
    "    print(np.count_nonzero(feature_occupancy > OCCUPANCY_CUTOFF))\n",
    "    for contact_id in np.nonzero(feature_occupancy > OCCUPANCY_CUTOFF)[0]:\n",
    "        print(featurizer.describe()[contact_id])"
   ]
  },
  {
   "cell_type": "code",
   "execution_count": 32,
   "id": "9b3c70b4-70a8-4278-b670-93d659545cd7",
   "metadata": {},
   "outputs": [
    {
     "name": "stdout",
     "output_type": "stream",
     "text": [
      "22-12-23 13:03:01 pyemma.coordinates.data.featurization.featurizer.MDFeaturizer[1] WARNING  Using all residue pairs with schemes like closest or closest-heavy is very time consuming. Consider reducing the residue pairs\n",
      "4186\n"
     ]
    }
   ],
   "source": [
    "featurizer_fs = pyemma.coordinates.featurizer(fs_traj.top)\n",
    "\n",
    "featurizer_fs.add_residue_mindist(threshold=0.45)\n",
    "\n",
    "print(np.count_nonzero(featurizer_fs.describe()))"
   ]
  },
  {
   "cell_type": "code",
   "execution_count": 33,
   "id": "ba8958c9-9fa7-4780-aab4-d8ae939020c7",
   "metadata": {},
   "outputs": [
    {
     "data": {
      "application/vnd.jupyter.widget-view+json": {
       "model_id": "",
       "version_major": 2,
       "version_minor": 0
      },
      "text/plain": [
       "getting output of FeatureReader:   0%|          | 0/7 [00:00<?, ?it/s]"
      ]
     },
     "metadata": {},
     "output_type": "display_data"
    }
   ],
   "source": [
    "traj_files = [\n",
    "    \"/project2/dinner/darrenjl/kaiB/03022023_restart_trans_gs/run_0/2qke_mutated.run.00.h5\",\n",
    "    \"/project2/dinner/darrenjl/kaiB/02272023_cis_fs/run_0/fs_mutated.run.00.h5\"\n",
    "]\n",
    "features_fs = pyemma.coordinates.load(traj_files, features=featurizer_fs)"
   ]
  },
  {
   "cell_type": "code",
   "execution_count": 34,
   "id": "e0fe3d58-da27-4f0b-8269-0ef2299be5bb",
   "metadata": {},
   "outputs": [
    {
     "data": {
      "image/png": "[encoded data removed]",
      "text/plain": [
       "<Figure size 450x450 with 1 Axes>"
      ]
     },
     "metadata": {},
     "output_type": "display_data"
    }
   ],
   "source": [
    "for traj in features_fs:\n",
    "    plt.plot(np.count_nonzero(traj[::10], axis=1), alpha=0.5)"
   ]
  },
  {
   "cell_type": "code",
   "execution_count": 35,
   "id": "b00b35d6-69b4-4cbe-a258-7815d58c3df1",
   "metadata": {},
   "outputs": [
    {
     "data": {
      "image/png": "[encoded data removed]",
      "text/plain": [
       "<Figure size 450x450 with 1 Axes>"
      ]
     },
     "metadata": {},
     "output_type": "display_data"
    }
   ],
   "source": [
    "for traj in features_fs:\n",
    "    feature_occupancy = np.mean(traj, axis=0)\n",
    "    plt.plot(feature_occupancy, '.', alpha=0.75)"
   ]
  },
  {
   "cell_type": "code",
   "execution_count": 36,
   "id": "9ad8945b-d7e4-4e9b-94b8-5855275a3e21",
   "metadata": {
    "scrolled": true
   },
   "outputs": [
    {
     "name": "stdout",
     "output_type": "stream",
     "text": [
      "142\n",
      "RES_DIST (closest-heavy) ALA7 - ALA40\n",
      "RES_DIST (closest-heavy) ALA7 - LYS42\n",
      "RES_DIST (closest-heavy) ALA7 - LEU92\n",
      "RES_DIST (closest-heavy) ALA7 - ALA93\n",
      "RES_DIST (closest-heavy) VAL8 - ALA40\n",
      "RES_DIST (closest-heavy) VAL8 - LYS42\n",
      "RES_DIST (closest-heavy) VAL8 - ARG90\n",
      "RES_DIST (closest-heavy) VAL8 - LEU91\n",
      "RES_DIST (closest-heavy) VAL8 - LEU92\n",
      "RES_DIST (closest-heavy) VAL8 - ALA93\n",
      "RES_DIST (closest-heavy) LEU9 - ALA40\n",
      "RES_DIST (closest-heavy) LEU9 - LEU41\n",
      "RES_DIST (closest-heavy) LEU9 - LYS42\n",
      "RES_DIST (closest-heavy) LEU9 - VAL43\n",
      "RES_DIST (closest-heavy) LEU9 - ILE44\n",
      "RES_DIST (closest-heavy) LEU9 - ARG90\n",
      "RES_DIST (closest-heavy) LEU9 - LEU91\n",
      "RES_DIST (closest-heavy) LEU9 - LEU92\n",
      "RES_DIST (closest-heavy) LYS10 - LYS42\n",
      "RES_DIST (closest-heavy) LYS10 - ILE44\n",
      "RES_DIST (closest-heavy) LYS10 - GLY88\n",
      "RES_DIST (closest-heavy) LYS10 - LEU89\n",
      "RES_DIST (closest-heavy) LYS10 - ARG90\n",
      "RES_DIST (closest-heavy) LYS10 - LEU92\n",
      "RES_DIST (closest-heavy) LEU11 - LYS42\n",
      "RES_DIST (closest-heavy) LEU11 - VAL43\n",
      "RES_DIST (closest-heavy) LEU11 - ILE44\n",
      "RES_DIST (closest-heavy) LEU11 - ASP45\n",
      "RES_DIST (closest-heavy) LEU11 - VAL46\n",
      "RES_DIST (closest-heavy) LEU11 - GLY88\n",
      "RES_DIST (closest-heavy) LEU11 - LEU89\n",
      "RES_DIST (closest-heavy) TYR12 - ILE44\n",
      "RES_DIST (closest-heavy) TYR12 - VAL46\n",
      "RES_DIST (closest-heavy) TYR12 - LEU86\n",
      "RES_DIST (closest-heavy) TYR12 - ILE87\n",
      "RES_DIST (closest-heavy) TYR12 - GLY88\n",
      "RES_DIST (closest-heavy) VAL13 - SER20\n",
      "RES_DIST (closest-heavy) VAL13 - ILE44\n",
      "RES_DIST (closest-heavy) VAL13 - ASP45\n",
      "RES_DIST (closest-heavy) VAL13 - VAL46\n",
      "RES_DIST (closest-heavy) VAL13 - LEU47\n",
      "RES_DIST (closest-heavy) VAL13 - LYS48\n",
      "RES_DIST (closest-heavy) VAL13 - LEU86\n",
      "RES_DIST (closest-heavy) VAL13 - ILE87\n",
      "RES_DIST (closest-heavy) ALA14 - LEU47\n",
      "RES_DIST (closest-heavy) ALA14 - ASN49\n",
      "RES_DIST (closest-heavy) ALA14 - VAL85\n",
      "RES_DIST (closest-heavy) ALA14 - LEU86\n",
      "RES_DIST (closest-heavy) GLY15 - SER20\n",
      "RES_DIST (closest-heavy) GLY15 - LEU47\n",
      "RES_DIST (closest-heavy) GLY15 - LYS48\n",
      "RES_DIST (closest-heavy) ASN16 - SER20\n",
      "RES_DIST (closest-heavy) THR17 - SER20\n",
      "RES_DIST (closest-heavy) THR17 - VAL21\n",
      "RES_DIST (closest-heavy) PRO18 - VAL21\n",
      "RES_DIST (closest-heavy) PRO18 - ARG22\n",
      "RES_DIST (closest-heavy) ASN19 - ARG22\n",
      "RES_DIST (closest-heavy) ASN19 - ALA23\n",
      "RES_DIST (closest-heavy) SER20 - ALA23\n",
      "RES_DIST (closest-heavy) SER20 - LEU24\n",
      "RES_DIST (closest-heavy) VAL21 - LEU24\n",
      "RES_DIST (closest-heavy) VAL21 - LYS25\n",
      "RES_DIST (closest-heavy) ARG22 - LYS25\n",
      "RES_DIST (closest-heavy) ARG22 - THR26\n",
      "RES_DIST (closest-heavy) ALA23 - THR26\n",
      "RES_DIST (closest-heavy) ALA23 - LEU27\n",
      "RES_DIST (closest-heavy) LEU24 - LEU27\n",
      "RES_DIST (closest-heavy) LEU24 - ASN28\n",
      "RES_DIST (closest-heavy) LYS25 - ASN28\n",
      "RES_DIST (closest-heavy) LYS25 - ASN29\n",
      "RES_DIST (closest-heavy) THR26 - ASN29\n",
      "RES_DIST (closest-heavy) THR26 - ILE30\n",
      "RES_DIST (closest-heavy) LEU27 - ILE30\n",
      "RES_DIST (closest-heavy) LEU27 - LEU31\n",
      "RES_DIST (closest-heavy) ASN28 - LEU31\n",
      "RES_DIST (closest-heavy) ASN28 - GLU32\n",
      "RES_DIST (closest-heavy) ASN29 - GLU32\n",
      "RES_DIST (closest-heavy) ASN29 - LYS33\n",
      "RES_DIST (closest-heavy) ILE30 - LYS33\n",
      "RES_DIST (closest-heavy) ILE30 - GLU34\n",
      "RES_DIST (closest-heavy) LEU31 - GLU34\n",
      "RES_DIST (closest-heavy) LEU31 - PHE35\n",
      "RES_DIST (closest-heavy) LEU31 - LYS36\n",
      "RES_DIST (closest-heavy) GLU32 - PHE35\n",
      "RES_DIST (closest-heavy) GLU32 - LYS36\n",
      "RES_DIST (closest-heavy) LYS33 - LYS36\n",
      "RES_DIST (closest-heavy) PHE35 - VAL38\n",
      "RES_DIST (closest-heavy) VAL46 - ASN49\n",
      "RES_DIST (closest-heavy) ASN49 - LEU52\n",
      "RES_DIST (closest-heavy) ASN49 - ALA53\n",
      "RES_DIST (closest-heavy) PRO50 - ALA53\n",
      "RES_DIST (closest-heavy) PRO50 - GLU54\n",
      "RES_DIST (closest-heavy) GLN51 - GLU54\n",
      "RES_DIST (closest-heavy) GLN51 - GLU55\n",
      "RES_DIST (closest-heavy) LEU52 - GLU55\n",
      "RES_DIST (closest-heavy) LEU52 - ASP56\n",
      "RES_DIST (closest-heavy) ALA53 - ASP56\n",
      "RES_DIST (closest-heavy) ILE58 - ILE87\n",
      "RES_DIST (closest-heavy) ILE58 - GLY88\n",
      "RES_DIST (closest-heavy) ILE58 - LEU89\n",
      "RES_DIST (closest-heavy) LEU59 - GLY88\n",
      "RES_DIST (closest-heavy) LEU59 - LEU89\n",
      "RES_DIST (closest-heavy) ALA60 - LEU89\n",
      "RES_DIST (closest-heavy) THR61 - LEU64\n",
      "RES_DIST (closest-heavy) THR61 - ALA65\n",
      "RES_DIST (closest-heavy) THR61 - LEU89\n",
      "RES_DIST (closest-heavy) PRO62 - ALA65\n",
      "RES_DIST (closest-heavy) PRO62 - LYS66\n",
      "RES_DIST (closest-heavy) THR63 - LYS66\n",
      "RES_DIST (closest-heavy) THR63 - VAL67\n",
      "RES_DIST (closest-heavy) LEU64 - VAL67\n",
      "RES_DIST (closest-heavy) LEU64 - LEU68\n",
      "RES_DIST (closest-heavy) ALA65 - LEU68\n",
      "RES_DIST (closest-heavy) LEU68 - VAL72\n",
      "RES_DIST (closest-heavy) LEU68 - ARG73\n",
      "RES_DIST (closest-heavy) PRO69 - VAL72\n",
      "RES_DIST (closest-heavy) PRO69 - ARG73\n",
      "RES_DIST (closest-heavy) PRO70 - ARG73\n",
      "RES_DIST (closest-heavy) PRO70 - ARG74\n",
      "RES_DIST (closest-heavy) PRO71 - ARG74\n",
      "RES_DIST (closest-heavy) PRO71 - ILE75\n",
      "RES_DIST (closest-heavy) VAL72 - ILE75\n",
      "RES_DIST (closest-heavy) VAL72 - ILE76\n",
      "RES_DIST (closest-heavy) ARG73 - ILE76\n",
      "RES_DIST (closest-heavy) ARG73 - GLY77\n",
      "RES_DIST (closest-heavy) ARG74 - GLY77\n",
      "RES_DIST (closest-heavy) ARG74 - ASP78\n",
      "RES_DIST (closest-heavy) ILE75 - ASP78\n",
      "RES_DIST (closest-heavy) ILE75 - LEU79\n",
      "RES_DIST (closest-heavy) ILE76 - LEU79\n",
      "RES_DIST (closest-heavy) ILE76 - SER80\n",
      "RES_DIST (closest-heavy) GLY77 - SER80\n",
      "RES_DIST (closest-heavy) GLY77 - ASN81\n",
      "RES_DIST (closest-heavy) ASP78 - ASN81\n",
      "RES_DIST (closest-heavy) ASP78 - ARG82\n",
      "RES_DIST (closest-heavy) LEU79 - ARG82\n",
      "RES_DIST (closest-heavy) LEU79 - GLU83\n",
      "RES_DIST (closest-heavy) LEU79 - VAL85\n",
      "RES_DIST (closest-heavy) SER80 - GLU83\n",
      "RES_DIST (closest-heavy) SER80 - VAL85\n",
      "RES_DIST (closest-heavy) SER80 - LEU86\n",
      "RES_DIST (closest-heavy) SER80 - ILE87\n",
      "130\n",
      "RES_DIST (closest-heavy) ALA7 - VAL38\n",
      "RES_DIST (closest-heavy) ALA7 - TYR39\n",
      "RES_DIST (closest-heavy) ALA7 - ALA40\n",
      "RES_DIST (closest-heavy) ALA7 - LEU41\n",
      "RES_DIST (closest-heavy) ALA7 - LEU68\n",
      "RES_DIST (closest-heavy) VAL8 - ALA40\n",
      "RES_DIST (closest-heavy) VAL8 - ALA65\n",
      "RES_DIST (closest-heavy) VAL8 - LYS66\n",
      "RES_DIST (closest-heavy) VAL8 - VAL67\n",
      "RES_DIST (closest-heavy) VAL8 - LEU68\n",
      "RES_DIST (closest-heavy) LEU9 - ALA40\n",
      "RES_DIST (closest-heavy) LEU9 - LEU41\n",
      "RES_DIST (closest-heavy) LEU9 - LYS42\n",
      "RES_DIST (closest-heavy) LEU9 - VAL43\n",
      "RES_DIST (closest-heavy) LEU9 - ALA65\n",
      "RES_DIST (closest-heavy) LEU9 - LYS66\n",
      "RES_DIST (closest-heavy) LYS10 - LYS42\n",
      "RES_DIST (closest-heavy) LYS10 - VAL43\n",
      "RES_DIST (closest-heavy) LYS10 - THR63\n",
      "RES_DIST (closest-heavy) LYS10 - LEU64\n",
      "RES_DIST (closest-heavy) LYS10 - ALA65\n",
      "RES_DIST (closest-heavy) LEU11 - LYS42\n",
      "RES_DIST (closest-heavy) LEU11 - VAL43\n",
      "RES_DIST (closest-heavy) LEU11 - ILE44\n",
      "RES_DIST (closest-heavy) LEU11 - ASP45\n",
      "RES_DIST (closest-heavy) LEU11 - THR63\n",
      "RES_DIST (closest-heavy) LEU11 - LEU64\n",
      "RES_DIST (closest-heavy) TYR12 - ILE44\n",
      "RES_DIST (closest-heavy) TYR12 - ASP45\n",
      "RES_DIST (closest-heavy) TYR12 - THR61\n",
      "RES_DIST (closest-heavy) TYR12 - PRO62\n",
      "RES_DIST (closest-heavy) TYR12 - THR63\n",
      "RES_DIST (closest-heavy) VAL13 - SER20\n",
      "RES_DIST (closest-heavy) VAL13 - ILE44\n",
      "RES_DIST (closest-heavy) VAL13 - ASP45\n",
      "RES_DIST (closest-heavy) VAL13 - VAL46\n",
      "RES_DIST (closest-heavy) VAL13 - LEU47\n",
      "RES_DIST (closest-heavy) VAL13 - THR61\n",
      "RES_DIST (closest-heavy) VAL13 - PRO62\n",
      "RES_DIST (closest-heavy) ALA14 - LEU47\n",
      "RES_DIST (closest-heavy) ALA14 - THR61\n",
      "RES_DIST (closest-heavy) ASN16 - SER20\n",
      "RES_DIST (closest-heavy) THR17 - SER20\n",
      "RES_DIST (closest-heavy) THR17 - VAL21\n",
      "RES_DIST (closest-heavy) PRO18 - VAL21\n",
      "RES_DIST (closest-heavy) PRO18 - ARG22\n",
      "RES_DIST (closest-heavy) ASN19 - ARG22\n",
      "RES_DIST (closest-heavy) ASN19 - ALA23\n",
      "RES_DIST (closest-heavy) SER20 - ALA23\n",
      "RES_DIST (closest-heavy) SER20 - LEU24\n",
      "RES_DIST (closest-heavy) VAL21 - LEU24\n",
      "RES_DIST (closest-heavy) VAL21 - LYS25\n",
      "RES_DIST (closest-heavy) ARG22 - LYS25\n",
      "RES_DIST (closest-heavy) ARG22 - THR26\n",
      "RES_DIST (closest-heavy) ALA23 - THR26\n",
      "RES_DIST (closest-heavy) ALA23 - LEU27\n",
      "RES_DIST (closest-heavy) ALA23 - LEU79\n",
      "RES_DIST (closest-heavy) LEU24 - LEU27\n",
      "RES_DIST (closest-heavy) LEU24 - ASN28\n",
      "RES_DIST (closest-heavy) LYS25 - ASN28\n",
      "RES_DIST (closest-heavy) LYS25 - ASN29\n",
      "RES_DIST (closest-heavy) THR26 - ASN29\n",
      "RES_DIST (closest-heavy) THR26 - ILE30\n",
      "RES_DIST (closest-heavy) LEU27 - ILE30\n",
      "RES_DIST (closest-heavy) LEU27 - LEU31\n",
      "RES_DIST (closest-heavy) ASN28 - LEU31\n",
      "RES_DIST (closest-heavy) ASN28 - GLU32\n",
      "RES_DIST (closest-heavy) ASN29 - GLU32\n",
      "RES_DIST (closest-heavy) ASN29 - LYS33\n",
      "RES_DIST (closest-heavy) ILE30 - LYS33\n",
      "RES_DIST (closest-heavy) ILE30 - GLU34\n",
      "RES_DIST (closest-heavy) ILE30 - PHE35\n",
      "RES_DIST (closest-heavy) LEU31 - GLU34\n",
      "RES_DIST (closest-heavy) LEU31 - PHE35\n",
      "RES_DIST (closest-heavy) LEU31 - LYS36\n",
      "RES_DIST (closest-heavy) GLU32 - PHE35\n",
      "RES_DIST (closest-heavy) GLU32 - LYS36\n",
      "RES_DIST (closest-heavy) PHE35 - VAL38\n",
      "RES_DIST (closest-heavy) PHE35 - TYR39\n",
      "RES_DIST (closest-heavy) ASN49 - LEU52\n",
      "RES_DIST (closest-heavy) ASN49 - ALA53\n",
      "RES_DIST (closest-heavy) PRO50 - ALA53\n",
      "RES_DIST (closest-heavy) ALA53 - LYS57\n",
      "RES_DIST (closest-heavy) GLU54 - LYS57\n",
      "RES_DIST (closest-heavy) ALA60 - THR63\n",
      "RES_DIST (closest-heavy) PRO62 - ILE75\n",
      "RES_DIST (closest-heavy) PRO62 - ILE76\n",
      "RES_DIST (closest-heavy) PRO62 - GLY77\n",
      "RES_DIST (closest-heavy) PRO62 - ASP78\n",
      "RES_DIST (closest-heavy) PRO62 - LEU79\n",
      "RES_DIST (closest-heavy) THR63 - ILE75\n",
      "RES_DIST (closest-heavy) THR63 - ILE76\n",
      "RES_DIST (closest-heavy) THR63 - GLY77\n",
      "RES_DIST (closest-heavy) LEU64 - ARG73\n",
      "RES_DIST (closest-heavy) LEU64 - ARG74\n",
      "RES_DIST (closest-heavy) LEU64 - ILE75\n",
      "RES_DIST (closest-heavy) LEU64 - ILE76\n",
      "RES_DIST (closest-heavy) ALA65 - ARG73\n",
      "RES_DIST (closest-heavy) ALA65 - ARG74\n",
      "RES_DIST (closest-heavy) ALA65 - ILE75\n",
      "RES_DIST (closest-heavy) LYS66 - PRO71\n",
      "RES_DIST (closest-heavy) LYS66 - VAL72\n",
      "RES_DIST (closest-heavy) LYS66 - ARG73\n",
      "RES_DIST (closest-heavy) LYS66 - LEU92\n",
      "RES_DIST (closest-heavy) VAL67 - PRO70\n",
      "RES_DIST (closest-heavy) VAL67 - PRO71\n",
      "RES_DIST (closest-heavy) VAL67 - VAL72\n",
      "RES_DIST (closest-heavy) PRO69 - VAL72\n",
      "RES_DIST (closest-heavy) ASP78 - ASN81\n",
      "RES_DIST (closest-heavy) ASP78 - LYS84\n",
      "RES_DIST (closest-heavy) LEU79 - VAL85\n",
      "RES_DIST (closest-heavy) ASN81 - LYS84\n",
      "RES_DIST (closest-heavy) ASN81 - VAL85\n",
      "RES_DIST (closest-heavy) ARG82 - VAL85\n",
      "RES_DIST (closest-heavy) ARG82 - LEU86\n",
      "RES_DIST (closest-heavy) GLU83 - LEU86\n",
      "RES_DIST (closest-heavy) GLU83 - ILE87\n",
      "RES_DIST (closest-heavy) LYS84 - ILE87\n",
      "RES_DIST (closest-heavy) LYS84 - GLY88\n",
      "RES_DIST (closest-heavy) VAL85 - GLY88\n",
      "RES_DIST (closest-heavy) VAL85 - LEU89\n",
      "RES_DIST (closest-heavy) LEU86 - LEU89\n",
      "RES_DIST (closest-heavy) LEU86 - ARG90\n",
      "RES_DIST (closest-heavy) ILE87 - ARG90\n",
      "RES_DIST (closest-heavy) ILE87 - LEU91\n",
      "RES_DIST (closest-heavy) GLY88 - LEU91\n",
      "RES_DIST (closest-heavy) GLY88 - LEU92\n",
      "RES_DIST (closest-heavy) LEU89 - LEU92\n",
      "RES_DIST (closest-heavy) LEU89 - ALA93\n",
      "RES_DIST (closest-heavy) ARG90 - ALA93\n"
     ]
    }
   ],
   "source": [
    "OCCUPANCY_CUTOFF = 0.3\n",
    "for traj in features_fs:\n",
    "    feature_occupancy = np.mean(traj, axis=0)\n",
    "    print(np.count_nonzero(feature_occupancy > OCCUPANCY_CUTOFF))\n",
    "    contact_ids = np.nonzero(feature_occupancy > OCCUPANCY_CUTOFF)[0]\n",
    "    for contact_id in contact_ids:\n",
    "        print(featurizer_fs.describe()[contact_id])"
   ]
  },
  {
   "cell_type": "code",
   "execution_count": 37,
   "id": "23150166-6229-4cfa-b802-0924cc33f12a",
   "metadata": {
    "scrolled": true
   },
   "outputs": [
    {
     "name": "stdout",
     "output_type": "stream",
     "text": [
      "100\n",
      "RES_DIST (closest-heavy) ALA7 - ALA40\n",
      "RES_DIST (closest-heavy) ALA7 - LEU92\n",
      "RES_DIST (closest-heavy) VAL8 - ALA40\n",
      "RES_DIST (closest-heavy) VAL8 - ARG90\n",
      "RES_DIST (closest-heavy) VAL8 - LEU91\n",
      "RES_DIST (closest-heavy) VAL8 - LEU92\n",
      "RES_DIST (closest-heavy) LEU9 - ALA40\n",
      "RES_DIST (closest-heavy) LEU9 - LEU41\n",
      "RES_DIST (closest-heavy) LEU9 - LYS42\n",
      "RES_DIST (closest-heavy) LEU9 - ARG90\n",
      "RES_DIST (closest-heavy) LYS10 - LYS42\n",
      "RES_DIST (closest-heavy) LYS10 - GLY88\n",
      "RES_DIST (closest-heavy) LYS10 - LEU89\n",
      "RES_DIST (closest-heavy) LYS10 - ARG90\n",
      "RES_DIST (closest-heavy) LEU11 - LYS42\n",
      "RES_DIST (closest-heavy) LEU11 - VAL43\n",
      "RES_DIST (closest-heavy) LEU11 - ILE44\n",
      "RES_DIST (closest-heavy) LEU11 - GLY88\n",
      "RES_DIST (closest-heavy) TYR12 - ILE44\n",
      "RES_DIST (closest-heavy) TYR12 - LEU86\n",
      "RES_DIST (closest-heavy) TYR12 - ILE87\n",
      "RES_DIST (closest-heavy) TYR12 - GLY88\n",
      "RES_DIST (closest-heavy) VAL13 - ILE44\n",
      "RES_DIST (closest-heavy) VAL13 - VAL46\n",
      "RES_DIST (closest-heavy) VAL13 - LEU47\n",
      "RES_DIST (closest-heavy) VAL13 - LEU86\n",
      "RES_DIST (closest-heavy) VAL13 - ILE87\n",
      "RES_DIST (closest-heavy) ALA14 - LEU86\n",
      "RES_DIST (closest-heavy) ASN16 - SER20\n",
      "RES_DIST (closest-heavy) THR17 - SER20\n",
      "RES_DIST (closest-heavy) THR17 - VAL21\n",
      "RES_DIST (closest-heavy) PRO18 - VAL21\n",
      "RES_DIST (closest-heavy) PRO18 - ARG22\n",
      "RES_DIST (closest-heavy) ASN19 - ARG22\n",
      "RES_DIST (closest-heavy) ASN19 - ALA23\n",
      "RES_DIST (closest-heavy) SER20 - ALA23\n",
      "RES_DIST (closest-heavy) SER20 - LEU24\n",
      "RES_DIST (closest-heavy) VAL21 - LEU24\n",
      "RES_DIST (closest-heavy) VAL21 - LYS25\n",
      "RES_DIST (closest-heavy) ARG22 - LYS25\n",
      "RES_DIST (closest-heavy) ARG22 - THR26\n",
      "RES_DIST (closest-heavy) ALA23 - THR26\n",
      "RES_DIST (closest-heavy) ALA23 - LEU27\n",
      "RES_DIST (closest-heavy) LEU24 - LEU27\n",
      "RES_DIST (closest-heavy) LEU24 - ASN28\n",
      "RES_DIST (closest-heavy) LYS25 - ASN28\n",
      "RES_DIST (closest-heavy) LYS25 - ASN29\n",
      "RES_DIST (closest-heavy) THR26 - ASN29\n",
      "RES_DIST (closest-heavy) THR26 - ILE30\n",
      "RES_DIST (closest-heavy) LEU27 - ILE30\n",
      "RES_DIST (closest-heavy) LEU27 - LEU31\n",
      "RES_DIST (closest-heavy) ASN28 - LEU31\n",
      "RES_DIST (closest-heavy) ASN28 - GLU32\n",
      "RES_DIST (closest-heavy) ASN29 - GLU32\n",
      "RES_DIST (closest-heavy) ASN29 - LYS33\n",
      "RES_DIST (closest-heavy) ILE30 - LYS33\n",
      "RES_DIST (closest-heavy) ILE30 - GLU34\n",
      "RES_DIST (closest-heavy) LEU31 - GLU34\n",
      "RES_DIST (closest-heavy) LEU31 - PHE35\n",
      "RES_DIST (closest-heavy) GLU32 - PHE35\n",
      "RES_DIST (closest-heavy) GLU32 - LYS36\n",
      "RES_DIST (closest-heavy) PHE35 - VAL38\n",
      "RES_DIST (closest-heavy) ASN49 - LEU52\n",
      "RES_DIST (closest-heavy) LEU59 - LEU89\n",
      "RES_DIST (closest-heavy) ALA60 - LEU89\n",
      "RES_DIST (closest-heavy) THR61 - LEU64\n",
      "RES_DIST (closest-heavy) THR61 - ALA65\n",
      "RES_DIST (closest-heavy) PRO62 - ALA65\n",
      "RES_DIST (closest-heavy) PRO62 - LYS66\n",
      "RES_DIST (closest-heavy) THR63 - LYS66\n",
      "RES_DIST (closest-heavy) THR63 - VAL67\n",
      "RES_DIST (closest-heavy) LEU64 - VAL67\n",
      "RES_DIST (closest-heavy) LEU64 - LEU68\n",
      "RES_DIST (closest-heavy) ALA65 - LEU68\n",
      "RES_DIST (closest-heavy) LEU68 - VAL72\n",
      "RES_DIST (closest-heavy) PRO69 - VAL72\n",
      "RES_DIST (closest-heavy) PRO69 - ARG73\n",
      "RES_DIST (closest-heavy) PRO70 - ARG73\n",
      "RES_DIST (closest-heavy) PRO70 - ARG74\n",
      "RES_DIST (closest-heavy) PRO71 - ARG74\n",
      "RES_DIST (closest-heavy) PRO71 - ILE75\n",
      "RES_DIST (closest-heavy) VAL72 - ILE75\n",
      "RES_DIST (closest-heavy) VAL72 - ILE76\n",
      "RES_DIST (closest-heavy) ARG73 - ILE76\n",
      "RES_DIST (closest-heavy) ARG73 - GLY77\n",
      "RES_DIST (closest-heavy) ARG74 - GLY77\n",
      "RES_DIST (closest-heavy) ARG74 - ASP78\n",
      "RES_DIST (closest-heavy) ILE75 - ASP78\n",
      "RES_DIST (closest-heavy) ILE75 - LEU79\n",
      "RES_DIST (closest-heavy) ILE76 - LEU79\n",
      "RES_DIST (closest-heavy) ILE76 - SER80\n",
      "RES_DIST (closest-heavy) GLY77 - SER80\n",
      "RES_DIST (closest-heavy) GLY77 - ASN81\n",
      "RES_DIST (closest-heavy) ASP78 - ASN81\n",
      "RES_DIST (closest-heavy) ASP78 - ARG82\n",
      "RES_DIST (closest-heavy) LEU79 - ARG82\n",
      "RES_DIST (closest-heavy) LEU79 - GLU83\n",
      "RES_DIST (closest-heavy) SER80 - GLU83\n",
      "RES_DIST (closest-heavy) SER80 - VAL85\n",
      "RES_DIST (closest-heavy) SER80 - ILE87\n",
      "96\n",
      "RES_DIST (closest-heavy) ALA7 - TYR39\n",
      "RES_DIST (closest-heavy) ALA7 - ALA40\n",
      "RES_DIST (closest-heavy) VAL8 - ALA40\n",
      "RES_DIST (closest-heavy) VAL8 - ALA65\n",
      "RES_DIST (closest-heavy) VAL8 - LYS66\n",
      "RES_DIST (closest-heavy) VAL8 - VAL67\n",
      "RES_DIST (closest-heavy) VAL8 - LEU68\n",
      "RES_DIST (closest-heavy) LEU9 - ALA40\n",
      "RES_DIST (closest-heavy) LEU9 - LEU41\n",
      "RES_DIST (closest-heavy) LEU9 - LYS42\n",
      "RES_DIST (closest-heavy) LEU9 - ALA65\n",
      "RES_DIST (closest-heavy) LEU9 - LYS66\n",
      "RES_DIST (closest-heavy) LYS10 - THR63\n",
      "RES_DIST (closest-heavy) LYS10 - LEU64\n",
      "RES_DIST (closest-heavy) LYS10 - ALA65\n",
      "RES_DIST (closest-heavy) LEU11 - LYS42\n",
      "RES_DIST (closest-heavy) LEU11 - VAL43\n",
      "RES_DIST (closest-heavy) LEU11 - ILE44\n",
      "RES_DIST (closest-heavy) LEU11 - THR63\n",
      "RES_DIST (closest-heavy) TYR12 - THR61\n",
      "RES_DIST (closest-heavy) TYR12 - PRO62\n",
      "RES_DIST (closest-heavy) TYR12 - THR63\n",
      "RES_DIST (closest-heavy) VAL13 - ASP45\n",
      "RES_DIST (closest-heavy) VAL13 - VAL46\n",
      "RES_DIST (closest-heavy) VAL13 - LEU47\n",
      "RES_DIST (closest-heavy) VAL13 - THR61\n",
      "RES_DIST (closest-heavy) VAL13 - PRO62\n",
      "RES_DIST (closest-heavy) ALA14 - THR61\n",
      "RES_DIST (closest-heavy) THR17 - SER20\n",
      "RES_DIST (closest-heavy) THR17 - VAL21\n",
      "RES_DIST (closest-heavy) PRO18 - VAL21\n",
      "RES_DIST (closest-heavy) PRO18 - ARG22\n",
      "RES_DIST (closest-heavy) ASN19 - ARG22\n",
      "RES_DIST (closest-heavy) ASN19 - ALA23\n",
      "RES_DIST (closest-heavy) SER20 - ALA23\n",
      "RES_DIST (closest-heavy) SER20 - LEU24\n",
      "RES_DIST (closest-heavy) VAL21 - LEU24\n",
      "RES_DIST (closest-heavy) VAL21 - LYS25\n",
      "RES_DIST (closest-heavy) ARG22 - LYS25\n",
      "RES_DIST (closest-heavy) ARG22 - THR26\n",
      "RES_DIST (closest-heavy) ALA23 - THR26\n",
      "RES_DIST (closest-heavy) ALA23 - LEU27\n",
      "RES_DIST (closest-heavy) LEU24 - LEU27\n",
      "RES_DIST (closest-heavy) LEU24 - ASN28\n",
      "RES_DIST (closest-heavy) LYS25 - ASN28\n",
      "RES_DIST (closest-heavy) LYS25 - ASN29\n",
      "RES_DIST (closest-heavy) THR26 - ASN29\n",
      "RES_DIST (closest-heavy) THR26 - ILE30\n",
      "RES_DIST (closest-heavy) LEU27 - ILE30\n",
      "RES_DIST (closest-heavy) LEU27 - LEU31\n",
      "RES_DIST (closest-heavy) ASN28 - LEU31\n",
      "RES_DIST (closest-heavy) ASN28 - GLU32\n",
      "RES_DIST (closest-heavy) ASN29 - GLU32\n",
      "RES_DIST (closest-heavy) ASN29 - LYS33\n",
      "RES_DIST (closest-heavy) ILE30 - LYS33\n",
      "RES_DIST (closest-heavy) ILE30 - GLU34\n",
      "RES_DIST (closest-heavy) LEU31 - GLU34\n",
      "RES_DIST (closest-heavy) LEU31 - PHE35\n",
      "RES_DIST (closest-heavy) GLU32 - PHE35\n",
      "RES_DIST (closest-heavy) PHE35 - VAL38\n",
      "RES_DIST (closest-heavy) ALA60 - THR63\n",
      "RES_DIST (closest-heavy) PRO62 - ILE76\n",
      "RES_DIST (closest-heavy) PRO62 - GLY77\n",
      "RES_DIST (closest-heavy) PRO62 - LEU79\n",
      "RES_DIST (closest-heavy) THR63 - ILE75\n",
      "RES_DIST (closest-heavy) THR63 - ILE76\n",
      "RES_DIST (closest-heavy) LEU64 - ARG73\n",
      "RES_DIST (closest-heavy) LEU64 - ARG74\n",
      "RES_DIST (closest-heavy) LEU64 - ILE75\n",
      "RES_DIST (closest-heavy) ALA65 - ARG73\n",
      "RES_DIST (closest-heavy) ALA65 - ARG74\n",
      "RES_DIST (closest-heavy) LYS66 - VAL72\n",
      "RES_DIST (closest-heavy) LYS66 - ARG73\n",
      "RES_DIST (closest-heavy) VAL67 - PRO70\n",
      "RES_DIST (closest-heavy) VAL67 - PRO71\n",
      "RES_DIST (closest-heavy) VAL67 - VAL72\n",
      "RES_DIST (closest-heavy) ASP78 - ASN81\n",
      "RES_DIST (closest-heavy) ASN81 - LYS84\n",
      "RES_DIST (closest-heavy) ASN81 - VAL85\n",
      "RES_DIST (closest-heavy) ARG82 - VAL85\n",
      "RES_DIST (closest-heavy) ARG82 - LEU86\n",
      "RES_DIST (closest-heavy) GLU83 - LEU86\n",
      "RES_DIST (closest-heavy) GLU83 - ILE87\n",
      "RES_DIST (closest-heavy) LYS84 - ILE87\n",
      "RES_DIST (closest-heavy) LYS84 - GLY88\n",
      "RES_DIST (closest-heavy) VAL85 - GLY88\n",
      "RES_DIST (closest-heavy) VAL85 - LEU89\n",
      "RES_DIST (closest-heavy) LEU86 - LEU89\n",
      "RES_DIST (closest-heavy) LEU86 - ARG90\n",
      "RES_DIST (closest-heavy) ILE87 - ARG90\n",
      "RES_DIST (closest-heavy) ILE87 - LEU91\n",
      "RES_DIST (closest-heavy) GLY88 - LEU91\n",
      "RES_DIST (closest-heavy) GLY88 - LEU92\n",
      "RES_DIST (closest-heavy) LEU89 - LEU92\n",
      "RES_DIST (closest-heavy) LEU89 - ALA93\n",
      "RES_DIST (closest-heavy) ARG90 - ALA93\n"
     ]
    }
   ],
   "source": [
    "OCCUPANCY_CUTOFF = 0.5\n",
    "for traj in features_fs:\n",
    "    feature_occupancy = np.mean(traj, axis=0)\n",
    "    print(np.count_nonzero(feature_occupancy > OCCUPANCY_CUTOFF))\n",
    "    contact_ids = np.nonzero(feature_occupancy > OCCUPANCY_CUTOFF)[0]\n",
    "    for contact_id in contact_ids:\n",
    "        print(featurizer_fs.describe()[contact_id])"
   ]
  },
  {
   "cell_type": "markdown",
   "id": "7ee6fa1a-06c8-41a1-882b-4c296c3bd931",
   "metadata": {},
   "source": [
    "## plot contact maps"
   ]
  },
  {
   "cell_type": "code",
   "execution_count": 59,
   "id": "bdb04bfd-3200-475e-bdc5-31290546b3a3",
   "metadata": {},
   "outputs": [
    {
     "data": {
      "text/plain": [
       "Text(0, 0.5, 'fs trajectory')"
      ]
     },
     "execution_count": 59,
     "metadata": {},
     "output_type": "execute_result"
    },
    {
     "data": {
      "image/png": "[encoded data removed]",
      "text/plain": [
       "<Figure size 800x800 with 4 Axes>"
      ]
     },
     "metadata": {},
     "output_type": "display_data"
    }
   ],
   "source": [
    "fig, axes = plt.subplots(2, 2, figsize=(4, 4), dpi=200, sharex=True, sharey=True, constrained_layout=True)\n",
    "\n",
    "# domain boundaries\n",
    "boundaries_gs = [50, 61, 66, 71, 80, 87, 93]\n",
    "boundaries_fs = [50, 63, 68, 72, 76, 83, 93]\n",
    "prolines = [62, 69, 70, 71]\n",
    "# contact map\n",
    "for i, traj in enumerate(features_fs):\n",
    "    for j, cutoff in enumerate([0.3, 0.5]):\n",
    "        ax = axes[i, j]\n",
    "        contact_map = np.zeros([94, 94], dtype=int)\n",
    "        feature_occupancy = np.mean(traj, axis=0)\n",
    "        contact_ids = np.nonzero(feature_occupancy > cutoff)[0]\n",
    "        for contact_id in contact_ids:\n",
    "            feature = featurizer_fs.describe()[contact_id]\n",
    "            words = feature.split()\n",
    "            res1, res2 = words[2], words[4]\n",
    "            # print(res1, res2)\n",
    "            resid1, resid2 = int(res1[3:]), int(res2[3:])\n",
    "            contact_map[resid1, resid2] = 1\n",
    "            contact_map[resid2, resid1] = 1\n",
    "        ax.imshow(contact_map, cmap=\"mako_r\")\n",
    "        if i == 0:\n",
    "            boundaries = boundaries_gs\n",
    "        else:\n",
    "            boundaries = boundaries_fs\n",
    "        for b in boundaries:\n",
    "            ax.axhline(b, color=\"gray\", lw=0.5)\n",
    "            ax.axvline(b, color=\"gray\", lw=0.5)\n",
    "        for p in prolines:\n",
    "            ax.axhline(p, color=\"purple\", lw=0.5)\n",
    "            ax.axvline(p, color=\"purple\", lw=0.5)\n",
    "axes[0, 0].set_title(\"cutoff 0.3\")\n",
    "axes[0, 1].set_title(\"cutoff 0.5\")\n",
    "axes[0, 0].set_ylabel(\"gs trajectory\")\n",
    "axes[1, 0].set_ylabel(\"fs trajectory\")"
   ]
  },
  {
   "cell_type": "code",
   "execution_count": 60,
   "id": "4dbbc3c5-1760-4222-9f60-4f39d90ce9f7",
   "metadata": {},
   "outputs": [
    {
     "data": {
      "text/plain": [
       "Text(0.5, 1.0, 'cutoff 0.5')"
      ]
     },
     "execution_count": 60,
     "metadata": {},
     "output_type": "execute_result"
    },
    {
     "data": {
      "image/png": "[encoded data removed]",
      "text/plain": [
       "<Figure size 800x400 with 2 Axes>"
      ]
     },
     "metadata": {},
     "output_type": "display_data"
    }
   ],
   "source": [
    "# union of gs and fs contacts\n",
    "fig, axes = plt.subplots(1, 2, figsize=(4, 2), dpi=200, sharex=True, sharey=True, constrained_layout=True)\n",
    "\n",
    "# domain boundaries\n",
    "boundaries_gs = [50, 61, 66, 71, 80, 87, 93]\n",
    "boundaries_fs = [50, 63, 68, 72, 76, 83, 93]\n",
    "prolines = [62, 69, 70, 71]\n",
    "# contact map\n",
    "for ax, cutoff in zip(axes, [0.3, 0.5]):\n",
    "    contact_map = np.zeros([94, 94], dtype=int)\n",
    "    for traj in features_fs:\n",
    "        feature_occupancy = np.mean(traj, axis=0)\n",
    "        contact_ids = np.nonzero(feature_occupancy > cutoff)[0]\n",
    "        for contact_id in contact_ids:\n",
    "            feature = featurizer_fs.describe()[contact_id]\n",
    "            words = feature.split()\n",
    "            res1, res2 = words[2], words[4]\n",
    "            # print(res1, res2)\n",
    "            resid1, resid2 = int(res1[3:]), int(res2[3:])\n",
    "            contact_map[resid1, resid2] = 1\n",
    "            contact_map[resid2, resid1] = 1\n",
    "    ax.imshow(contact_map, cmap=\"mako_r\")\n",
    "axes[0].set_title(\"cutoff 0.3\")\n",
    "axes[1].set_title(\"cutoff 0.5\")"
   ]
  },
  {
   "cell_type": "code",
   "execution_count": 49,
   "id": "c5f20c33-18b8-459d-987e-beb3e4157799",
   "metadata": {},
   "outputs": [
    {
     "data": {
      "text/plain": [
       "306"
      ]
     },
     "execution_count": 49,
     "metadata": {},
     "output_type": "execute_result"
    }
   ],
   "source": [
    "np.count_nonzero(contact_map)"
   ]
  },
  {
   "cell_type": "code",
   "execution_count": 39,
   "id": "530428c8-ceff-4d14-bda9-d61b23a8c6f2",
   "metadata": {},
   "outputs": [
    {
     "data": {
      "image/png": "[encoded data removed]",
      "text/plain": [
       "<Figure size 450x450 with 1 Axes>"
      ]
     },
     "metadata": {},
     "output_type": "display_data"
    },
    {
     "data": {
      "image/png": "[encoded data removed]",
      "text/plain": [
       "<Figure size 450x450 with 1 Axes>"
      ]
     },
     "metadata": {},
     "output_type": "display_data"
    }
   ],
   "source": [
    "# contact map\n",
    "OCCUPANCY_CUTOFF = 0.5\n",
    "for traj in features_fs:\n",
    "    contact_map = np.zeros([94, 94], dtype=int)\n",
    "    feature_occupancy = np.mean(traj, axis=0)\n",
    "    contact_ids = np.nonzero(feature_occupancy > OCCUPANCY_CUTOFF)[0]\n",
    "    for contact_id in contact_ids:\n",
    "        feature = featurizer_fs.describe()[contact_id]\n",
    "        words = feature.split()\n",
    "        res1, res2 = words[2], words[4]\n",
    "        # print(res1, res2)\n",
    "        resid1, resid2 = int(res1[3:]), int(res2[3:])\n",
    "        contact_map[resid1, resid2] = 1\n",
    "        contact_map[resid2, resid1] = 1\n",
    "    fig = plt.figure()\n",
    "    plt.imshow(contact_map, cmap=\"mako_r\")"
   ]
  },
  {
   "cell_type": "markdown",
   "id": "4dd77e38-c80c-4bc4-af36-6caa7f1ca2c8",
   "metadata": {},
   "source": [
    "## try analyzing trajectories with contacts"
   ]
  },
  {
   "cell_type": "code",
   "execution_count": 50,
   "id": "15408a8c-4785-4cc2-8174-0edb9251596a",
   "metadata": {},
   "outputs": [],
   "source": [
    "n_rep = 48  # replica number\n",
    "\n",
    "output_names = [\n",
    "    \"gs_d91r\",\n",
    "    \"fs_d91r\",\n",
    "    \"d91r_05_31\",\n",
    "    \"d91r_06_00\",\n",
    "    \"remd_d91r_06_00_23_34423\",\n",
    "    \"remd_d91r_06_00_19_42383\",\n",
    "    \"remd_d91r_06_00_21_33547\",\n",
    "    \"remd_d91r_06_00_25_30869\",\n",
    "]\n",
    "output_dirs = [\"gs_p2.5\", \"fs_p2.5\", \"05_31\", \"06_00\", \"rerun_0\", \"rerun_1\", \"rerun_2\", \"rerun_3\"]\n",
    "work_dir = \"/project/dinner/scguo/kaiB/remd/d91r_iso\""
   ]
  },
  {
   "cell_type": "code",
   "execution_count": 57,
   "id": "d9724762-0ace-4178-b1a4-99232b2f3df7",
   "metadata": {},
   "outputs": [],
   "source": [
    "traj_files = []\n",
    "for d, n in zip(output_dirs, output_names):\n",
    "    for i in np.arange(n_rep):\n",
    "        j = str(i).zfill(2)\n",
    "        trajfile = f\"{work_dir}/{d}/{n}.run.{j}.h5\"\n",
    "        traj_files.append(trajfile)"
   ]
  },
  {
   "cell_type": "code",
   "execution_count": 61,
   "id": "6ed3f625-6ada-4084-a273-e31523c70519",
   "metadata": {},
   "outputs": [
    {
     "name": "stdout",
     "output_type": "stream",
     "text": [
      "142\n",
      "130\n",
      "213\n",
      "(213, 2)\n"
     ]
    }
   ],
   "source": [
    "OCCUPANCY_CUTOFF = 0.3\n",
    "def make_contact_list(cutoff):\n",
    "    contact_ids = []\n",
    "    for traj in features_fs:\n",
    "        feature_occupancy = np.mean(traj, axis=0)\n",
    "        print(np.count_nonzero(feature_occupancy > cutoff))\n",
    "        contact_ids.append(feature_occupancy > cutoff)\n",
    "    all_contact_ids = np.nonzero(contact_ids[0] | contact_ids[1])[0]\n",
    "    print(len(all_contact_ids))\n",
    "    contact_list = []\n",
    "    for contact_id in all_contact_ids:\n",
    "        feature = featurizer_fs.describe()[contact_id]\n",
    "        words = feature.split()\n",
    "        res1, res2 = words[2], words[4]\n",
    "        # print(res1, res2)\n",
    "        resid1, resid2 = int(res1[3:]), int(res2[3:])\n",
    "        contact_list.append([resid1, resid2])\n",
    "    contact_list = np.array(contact_list)\n",
    "    print(contact_list.shape)\n",
    "    return contact_list\n",
    "\n",
    "contact_list = make_contact_list(OCCUPANCY_CUTOFF)"
   ]
  },
  {
   "cell_type": "code",
   "execution_count": 62,
   "id": "5e915faf-9e6c-4e2a-b378-9c840485fd7d",
   "metadata": {},
   "outputs": [
    {
     "data": {
      "application/vnd.jupyter.widget-view+json": {
       "model_id": "",
       "version_major": 2,
       "version_minor": 0
      },
      "text/plain": [
       "Obtaining file info:   0%|          | 0/384 [00:00<?, ?it/s]"
      ]
     },
     "metadata": {},
     "output_type": "display_data"
    },
    {
     "data": {
      "application/vnd.jupyter.widget-view+json": {
       "model_id": "",
       "version_major": 2,
       "version_minor": 0
      },
      "text/plain": [
       "getting output of FeatureReader:   0%|          | 0/132912 [00:00<?, ?it/s]"
      ]
     },
     "metadata": {},
     "output_type": "display_data"
    }
   ],
   "source": [
    "top = md.load_frame(\"/project/dinner/scguo/kaiB/remd/d91r_iso/gs_p2.5/gs_d91r.run.00.h5\", 0).top\n",
    "featurizer_contacts = pyemma.coordinates.featurizer(top)\n",
    "featurizer_contacts.add_residue_mindist(residue_pairs)\n",
    "remd_contacts = pyemma.coordinates.load(traj_files, features=featurizer_contacts, chunksize=128)"
   ]
  },
  {
   "cell_type": "code",
   "execution_count": null,
   "id": "96182a43-fbc6-4ceb-9209-2b6ca2494be3",
   "metadata": {},
   "outputs": [],
   "source": []
  }
 ],
 "metadata": {
  "kernelspec": {
   "display_name": "Python 3 (ipykernel)",
   "language": "python",
   "name": "python3"
  },
  "language_info": {
   "codemirror_mode": {
    "name": "ipython",
    "version": 3
   },
   "file_extension": ".py",
   "mimetype": "text/x-python",
   "name": "python",
   "nbconvert_exporter": "python",
   "pygments_lexer": "ipython3",
   "version": "3.11.4"
  }
 },
 "nbformat": 4,
 "nbformat_minor": 5
}
